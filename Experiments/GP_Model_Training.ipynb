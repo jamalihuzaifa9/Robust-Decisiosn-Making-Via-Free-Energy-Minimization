{
 "cells": [
  {
   "cell_type": "code",
   "execution_count": 132,
   "metadata": {},
   "outputs": [],
   "source": [
    "import numpy as np\n",
    "import pickle\n",
    "import scipy.stats as st\n",
    "from scipy.optimize import minimize\n",
    "from sklearn.gaussian_process import GaussianProcessRegressor\n",
    "from sklearn.gaussian_process.kernels import RBF, ConstantKernel, WhiteKernel"
   ]
  },
  {
   "cell_type": "code",
   "execution_count": 135,
   "metadata": {},
   "outputs": [],
   "source": [
    "XX = np.load(r'D:\\Network Security\\KL Control\\robotarium_python_simulator\\rps\\State_Data_Nominal.npy',allow_pickle=True)\n",
    "UU = np.load(r'D:\\Network Security\\KL Control\\robotarium_python_simulator\\rps\\Input_Dataset_new.npy',allow_pickle=True)"
   ]
  },
  {
   "cell_type": "code",
   "execution_count": 134,
   "metadata": {},
   "outputs": [],
   "source": [
    "X = []\n",
    "X_plot = []\n",
    "\n",
    "X_Prev = []\n",
    "X_plot_Prev = []\n",
    "\n",
    "U = []\n",
    "U_plot = []\n",
    "\n",
    "for i in range(len(XX)):\n",
    "    X.append(np.array(XX[i]))\n",
    "    X_plot.append(np.array(XX[i]))\n",
    "\n",
    "X = np.concatenate(X, axis=0)\n",
    "X = np.reshape(X, (-1, 2))\n",
    "\n",
    "U = []\n",
    "for i in range(len(UU)):\n",
    "    U.append(np.array(UU[i]))\n",
    "    U_plot.append(np.array(UU[i]))\n",
    "\n",
    "U = np.concatenate(U, axis=0)\n",
    "U = np.reshape(U, (-1, 2))"
   ]
  },
  {
   "cell_type": "code",
   "execution_count": 131,
   "metadata": {},
   "outputs": [],
   "source": [
    "X1 = XX[0,:,:,:]\n",
    "X2 = XX[:2,:,:,:].reshape((-1,2))\n",
    "X3 = XX[:,:,:,:].reshape((-1,2))\n",
    "\n",
    "U1 = UU[0,:,:,:]\n",
    "U2 = UU[:2,:,:,:].reshape((-1,2))\n",
    "U3 = UU[:,:,:,:].reshape((-1,2))"
   ]
  },
  {
   "cell_type": "code",
   "execution_count": 169,
   "metadata": {},
   "outputs": [],
   "source": [
    "# Dataset 1\n",
    "X1 = np.hstack((XX[0,:-1])).reshape(-1,2)\n",
    "U1 = np.hstack((UU[0,:])).reshape(-1,2)\n",
    "Train1 = np.hstack((X1,U1))\n",
    "Y1 = np.hstack((XX[0,1:])).reshape(-1,2)\n",
    "\n",
    "# Dataset 2\n",
    "X2 = np.hstack((XX[0,:-1],XX[1,:-1])).reshape(-1,2)\n",
    "U2 = np.hstack((UU[0,:],UU[1,:])).reshape(-1,2)\n",
    "Train2 = np.hstack((X2,U2))\n",
    "Y2 = np.hstack((XX[0,1:],XX[1,1:])).reshape(-1,2)\n",
    "\n",
    "# Dataset 3\n",
    "X3 = np.hstack((XX[0,:-1],XX[1,:-1],XX[2,:-1])).reshape(-1,2)\n",
    "U3 = np.hstack((UU[0,:],UU[1,:],UU[2,:])).reshape(-1,2)\n",
    "Train3 = np.hstack((X3,U3))\n",
    "Y3 = np.hstack((XX[0,1:],XX[1,1:],XX[2,1:])).reshape(-1,2)"
   ]
  },
  {
   "cell_type": "code",
   "execution_count": 182,
   "metadata": {},
   "outputs": [],
   "source": [
    "def nominal_model_step(x, velocities, time_step):\n",
    "    poses = np.zeros((2, 1))\n",
    "    poses[0] = 1.0 * x[0] + time_step * velocities[0] + 0.0 * x[0]\n",
    "    poses[1] = 1.0 * x[1] + time_step * velocities[1] + 0.0* x[1]\n",
    "    return poses"
   ]
  },
  {
   "cell_type": "code",
   "execution_count": 231,
   "metadata": {},
   "outputs": [
    {
     "name": "stderr",
     "output_type": "stream",
     "text": [
      "c:\\Users\\jamal\\anaconda3\\envs\\mbrl\\lib\\site-packages\\sklearn\\gaussian_process\\kernels.py:285: RuntimeWarning: divide by zero encountered in log\n",
      "  return np.log(np.hstack(theta))\n",
      "c:\\Users\\jamal\\anaconda3\\envs\\mbrl\\lib\\site-packages\\sklearn\\gaussian_process\\_gpr.py:629: ConvergenceWarning: lbfgs failed to converge (status=2):\n",
      "ABNORMAL_TERMINATION_IN_LNSRCH.\n",
      "\n",
      "Increase the number of iterations (max_iter) or scale the data as shown in:\n",
      "    https://scikit-learn.org/stable/modules/preprocessing.html\n",
      "  _check_optimize_result(\"lbfgs\", opt_res)\n",
      "c:\\Users\\jamal\\anaconda3\\envs\\mbrl\\lib\\site-packages\\sklearn\\gaussian_process\\kernels.py:420: ConvergenceWarning: The optimal value found for dimension 0 of parameter k2__noise_level is close to the specified lower bound 1e-05. Decreasing the bound and calling fit again may find a better value.\n",
      "  warnings.warn(\n"
     ]
    },
    {
     "data": {
      "text/html": [
       "<style>#sk-container-id-14 {color: black;background-color: white;}#sk-container-id-14 pre{padding: 0;}#sk-container-id-14 div.sk-toggleable {background-color: white;}#sk-container-id-14 label.sk-toggleable__label {cursor: pointer;display: block;width: 100%;margin-bottom: 0;padding: 0.3em;box-sizing: border-box;text-align: center;}#sk-container-id-14 label.sk-toggleable__label-arrow:before {content: \"▸\";float: left;margin-right: 0.25em;color: #696969;}#sk-container-id-14 label.sk-toggleable__label-arrow:hover:before {color: black;}#sk-container-id-14 div.sk-estimator:hover label.sk-toggleable__label-arrow:before {color: black;}#sk-container-id-14 div.sk-toggleable__content {max-height: 0;max-width: 0;overflow: hidden;text-align: left;background-color: #f0f8ff;}#sk-container-id-14 div.sk-toggleable__content pre {margin: 0.2em;color: black;border-radius: 0.25em;background-color: #f0f8ff;}#sk-container-id-14 input.sk-toggleable__control:checked~div.sk-toggleable__content {max-height: 200px;max-width: 100%;overflow: auto;}#sk-container-id-14 input.sk-toggleable__control:checked~label.sk-toggleable__label-arrow:before {content: \"▾\";}#sk-container-id-14 div.sk-estimator input.sk-toggleable__control:checked~label.sk-toggleable__label {background-color: #d4ebff;}#sk-container-id-14 div.sk-label input.sk-toggleable__control:checked~label.sk-toggleable__label {background-color: #d4ebff;}#sk-container-id-14 input.sk-hidden--visually {border: 0;clip: rect(1px 1px 1px 1px);clip: rect(1px, 1px, 1px, 1px);height: 1px;margin: -1px;overflow: hidden;padding: 0;position: absolute;width: 1px;}#sk-container-id-14 div.sk-estimator {font-family: monospace;background-color: #f0f8ff;border: 1px dotted black;border-radius: 0.25em;box-sizing: border-box;margin-bottom: 0.5em;}#sk-container-id-14 div.sk-estimator:hover {background-color: #d4ebff;}#sk-container-id-14 div.sk-parallel-item::after {content: \"\";width: 100%;border-bottom: 1px solid gray;flex-grow: 1;}#sk-container-id-14 div.sk-label:hover label.sk-toggleable__label {background-color: #d4ebff;}#sk-container-id-14 div.sk-serial::before {content: \"\";position: absolute;border-left: 1px solid gray;box-sizing: border-box;top: 0;bottom: 0;left: 50%;z-index: 0;}#sk-container-id-14 div.sk-serial {display: flex;flex-direction: column;align-items: center;background-color: white;padding-right: 0.2em;padding-left: 0.2em;position: relative;}#sk-container-id-14 div.sk-item {position: relative;z-index: 1;}#sk-container-id-14 div.sk-parallel {display: flex;align-items: stretch;justify-content: center;background-color: white;position: relative;}#sk-container-id-14 div.sk-item::before, #sk-container-id-14 div.sk-parallel-item::before {content: \"\";position: absolute;border-left: 1px solid gray;box-sizing: border-box;top: 0;bottom: 0;left: 50%;z-index: -1;}#sk-container-id-14 div.sk-parallel-item {display: flex;flex-direction: column;z-index: 1;position: relative;background-color: white;}#sk-container-id-14 div.sk-parallel-item:first-child::after {align-self: flex-end;width: 50%;}#sk-container-id-14 div.sk-parallel-item:last-child::after {align-self: flex-start;width: 50%;}#sk-container-id-14 div.sk-parallel-item:only-child::after {width: 0;}#sk-container-id-14 div.sk-dashed-wrapped {border: 1px dashed gray;margin: 0 0.4em 0.5em 0.4em;box-sizing: border-box;padding-bottom: 0.4em;background-color: white;}#sk-container-id-14 div.sk-label label {font-family: monospace;font-weight: bold;display: inline-block;line-height: 1.2em;}#sk-container-id-14 div.sk-label-container {text-align: center;}#sk-container-id-14 div.sk-container {/* jupyter's `normalize.less` sets `[hidden] { display: none; }` but bootstrap.min.css set `[hidden] { display: none !important; }` so we also need the `!important` here to be able to override the default hidden behavior on the sphinx rendered scikit-learn.org. See: https://github.com/scikit-learn/scikit-learn/issues/21755 */display: inline-block !important;position: relative;}#sk-container-id-14 div.sk-text-repr-fallback {display: none;}</style><div id=\"sk-container-id-14\" class=\"sk-top-container\"><div class=\"sk-text-repr-fallback\"><pre>GaussianProcessRegressor(kernel=1**2 * RBF(length_scale=[0, 0, 0, 0]) + WhiteKernel(noise_level=1),\n",
       "                         n_restarts_optimizer=10)</pre><b>In a Jupyter environment, please rerun this cell to show the HTML representation or trust the notebook. <br />On GitHub, the HTML representation is unable to render, please try loading this page with nbviewer.org.</b></div><div class=\"sk-container\" hidden><div class=\"sk-item\"><div class=\"sk-estimator sk-toggleable\"><input class=\"sk-toggleable__control sk-hidden--visually\" id=\"sk-estimator-id-14\" type=\"checkbox\" checked><label for=\"sk-estimator-id-14\" class=\"sk-toggleable__label sk-toggleable__label-arrow\">GaussianProcessRegressor</label><div class=\"sk-toggleable__content\"><pre>GaussianProcessRegressor(kernel=1**2 * RBF(length_scale=[0, 0, 0, 0]) + WhiteKernel(noise_level=1),\n",
       "                         n_restarts_optimizer=10)</pre></div></div></div></div></div>"
      ],
      "text/plain": [
       "GaussianProcessRegressor(kernel=1**2 * RBF(length_scale=[0, 0, 0, 0]) + WhiteKernel(noise_level=1),\n",
       "                         n_restarts_optimizer=10)"
      ]
     },
     "execution_count": 231,
     "metadata": {},
     "output_type": "execute_result"
    }
   ],
   "source": [
    "# Define the GP model with RBF kernel\n",
    "# Define the kernel for the Gaussian Process\n",
    "kernel = ConstantKernel() * RBF(length_scale=[0.0,.0,.0,.0]) + WhiteKernel()\n",
    "gp = GaussianProcessRegressor(kernel=kernel, n_restarts_optimizer=10)\n",
    "\n",
    "# Train the GP model\n",
    "gp.fit(Train2, Y2)"
   ]
  },
  {
   "cell_type": "code",
   "execution_count": null,
   "metadata": {},
   "outputs": [],
   "source": [
    "X_train = np.hstack((X2[:-1,:],U2[:,:])).reshape((-1,4))\n",
    "Y_train = X2[1:,:].reshape((-1,2))\n",
    "\n",
    "# Define the GP model with RBF kernel\n",
    "# Define the kernel for the Gaussian Process\n",
    "kernel = ConstantKernel() * RBF(length_scale=[0.5,0.5,0.5,0.5]) + WhiteKernel()\n",
    "gp = GaussianProcessRegressor(kernel=kernel, n_restarts_optimizer=10)\n",
    "\n",
    "# Train the GP model\n",
    "gp.fit(X_train, Y_train)\n"
   ]
  },
  {
   "cell_type": "code",
   "execution_count": 208,
   "metadata": {},
   "outputs": [],
   "source": [
    "gp3 = pickle.load(open(\"GP_nominal_2.dump\",\"rb\"))"
   ]
  },
  {
   "cell_type": "code",
   "execution_count": 230,
   "metadata": {},
   "outputs": [
    {
     "name": "stdout",
     "output_type": "stream",
     "text": [
      "Predicted next state: [[ 0.99915069]\n",
      " [-0.79607165]]\n",
      "actual next state: [[ 0.995005]\n",
      " [-0.795005]]\n",
      "Covariance: [[[1.24258659e-05 1.24258659e-05]]]\n"
     ]
    }
   ],
   "source": [
    "# Example of predicting with the GP model\n",
    "time_step = 0.0333\n",
    "test_state = np.array([1.0, -.8])\n",
    "test_velocities = np.array([-0.15, 0.15])\n",
    "test_input = np.hstack((test_state, test_velocities)).reshape(1, -1)\n",
    "predicted_next_state,covn = gp.predict(test_input,return_cov=True)\n",
    "\n",
    "next_state_test = nominal_model_step(test_state, test_velocities, time_step)\n",
    "\n",
    "print(\"Predicted next state:\", predicted_next_state.T)\n",
    "print('actual next state:',next_state_test)\n",
    "print('Covariance:',covn)"
   ]
  },
  {
   "cell_type": "code",
   "execution_count": 10,
   "metadata": {},
   "outputs": [
    {
     "data": {
      "text/plain": [
       "{'k1': 9.8**2 * RBF(length_scale=[20.6, 19.4, 401, 417]),\n",
       " 'k2': WhiteKernel(noise_level=1e-05),\n",
       " 'k1__k1': 9.8**2,\n",
       " 'k1__k2': RBF(length_scale=[20.6, 19.4, 401, 417]),\n",
       " 'k1__k1__constant_value': 96.10841278607474,\n",
       " 'k1__k1__constant_value_bounds': (1e-05, 100000.0),\n",
       " 'k1__k2__length_scale': array([ 20.61778115,  19.42858169, 401.04667891, 416.52370577]),\n",
       " 'k1__k2__length_scale_bounds': (1e-05, 100000.0),\n",
       " 'k2__noise_level': 9.999999999999997e-06,\n",
       " 'k2__noise_level_bounds': (1e-05, 100000.0)}"
      ]
     },
     "execution_count": 10,
     "metadata": {},
     "output_type": "execute_result"
    }
   ],
   "source": [
    "gp.kernel_.get_params()"
   ]
  },
  {
   "cell_type": "code",
   "execution_count": 113,
   "metadata": {},
   "outputs": [],
   "source": [
    "with open(\"GP_nominal_2.dump\",\"wb\") as f:\n",
    "    pickle.dump(gp, f)"
   ]
  },
  {
   "cell_type": "code",
   "execution_count": 172,
   "metadata": {},
   "outputs": [],
   "source": [
    "def calculate_kl_divergence(mu1, cov1, mu2, cov2):\n",
    "    \"\"\"\n",
    "    Calculate the Kullback-Leibler (KL) divergence between two multivariate Gaussian distributions.\n",
    "\n",
    "    Args:\n",
    "        mu1: numpy array of shape (d,), the mean vector of the first Gaussian distribution\n",
    "        cov1: numpy array of shape (d, d), the covariance matrix of the first Gaussian distribution\n",
    "        mu2: numpy array of shape (d,), the mean vector of the second Gaussian distribution\n",
    "        cov2: numpy array of shape (d, d), the covariance matrix of the second Gaussian distribution\n",
    "\n",
    "    Returns:\n",
    "        kl_divergence: float, the KL divergence between the two Gaussian distributions\n",
    "    \"\"\"\n",
    "    d = len(mu1)\n",
    "\n",
    "    # Invert the covariance matrix of the second Gaussian distribution\n",
    "    cov2_inv = np.linalg.inv(cov2)\n",
    "\n",
    "    # Calculate the trace term\n",
    "    trace_term = np.trace(np.matmul(cov2_inv, cov1))\n",
    "\n",
    "    # Calculate the squared difference in means\n",
    "    mean_diff = mu2 - mu1\n",
    "    mean_diff_term = np.dot(np.dot(mean_diff, cov2_inv), mean_diff)\n",
    "\n",
    "    # Calculate the log-determinant term\n",
    "    log_det_term = np.log(np.linalg.det(cov2) / np.linalg.det(cov1))\n",
    "\n",
    "    # Calculate the KL divergence\n",
    "    kl_divergence = 0.5 * (trace_term + mean_diff_term - d + log_det_term)\n",
    "\n",
    "    return kl_divergence"
   ]
  },
  {
   "cell_type": "code",
   "execution_count": 229,
   "metadata": {},
   "outputs": [
    {
     "name": "stdout",
     "output_type": "stream",
     "text": [
      "75.84707870552552\n"
     ]
    },
    {
     "data": {
      "text/plain": [
       "100.0"
      ]
     },
     "execution_count": 229,
     "metadata": {},
     "output_type": "execute_result"
    }
   ],
   "source": [
    "Cov = np.array([[0.001, 0.0002], [0.0002, 0.001]])\n",
    "Covn= np.diag([covn[0,0,0],covn[0,0,1]])\n",
    "cov_reference = np.array([[0.0001, 0.00002], [0.00002, 0.0001]])\n",
    "\n",
    "dkl = calculate_kl_divergence(next_state_test.reshape((2,)),Cov,predicted_next_state.reshape((2,)),Covn)\n",
    "print(dkl)\n",
    "np.clip(calculate_kl_divergence(np.array([-1.4,-0.8]).reshape((2,)),cov_reference,predicted_next_state.reshape((2,)),Covn),0.0,100)"
   ]
  }
 ],
 "metadata": {
  "kernelspec": {
   "display_name": "mbrl",
   "language": "python",
   "name": "python3"
  },
  "language_info": {
   "codemirror_mode": {
    "name": "ipython",
    "version": 3
   },
   "file_extension": ".py",
   "mimetype": "text/x-python",
   "name": "python",
   "nbconvert_exporter": "python",
   "pygments_lexer": "ipython3",
   "version": "3.8.13"
  }
 },
 "nbformat": 4,
 "nbformat_minor": 2
}
