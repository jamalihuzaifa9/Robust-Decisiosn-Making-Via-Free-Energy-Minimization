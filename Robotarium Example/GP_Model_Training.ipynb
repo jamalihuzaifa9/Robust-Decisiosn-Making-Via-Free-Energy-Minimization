{
 "cells": [
  {
   "cell_type": "code",
   "execution_count": 97,
   "metadata": {},
   "outputs": [],
   "source": [
    "import numpy as np\n",
    "import pickle\n",
    "import scipy.stats as st\n",
    "from scipy.optimize import minimize\n",
    "from sklearn.gaussian_process import GaussianProcessRegressor\n",
    "from sklearn.gaussian_process.kernels import RBF, ConstantKernel, WhiteKernel"
   ]
  },
  {
   "cell_type": "code",
   "execution_count": 129,
   "metadata": {},
   "outputs": [],
   "source": [
    "XX = np.load(r'D:\\Network Security\\KL Control\\robotarium_python_simulator\\rps\\State_Data_Nominal.npy',allow_pickle=True)\n",
    "UU = np.load(r'D:\\Network Security\\KL Control\\robotarium_python_simulator\\rps\\Input_Dataset_new.npy',allow_pickle=True)"
   ]
  },
  {
   "cell_type": "code",
   "execution_count": 130,
   "metadata": {},
   "outputs": [],
   "source": [
    "X = []\n",
    "X_plot = []\n",
    "\n",
    "X_Prev = []\n",
    "X_plot_Prev = []\n",
    "\n",
    "U = []\n",
    "U_plot = []\n",
    "\n",
    "for i in range(len(XX)):\n",
    "    X.append(np.array(XX[i]))\n",
    "    X_plot.append(np.array(XX[i]))\n",
    "\n",
    "X = np.concatenate(X, axis=0)\n",
    "X = np.reshape(X, (-1, 2))\n",
    "\n",
    "U = []\n",
    "for i in range(len(UU)):\n",
    "    U.append(np.array(UU[i]))\n",
    "    U_plot.append(np.array(UU[i]))\n",
    "\n",
    "U = np.concatenate(U, axis=0)\n",
    "U = np.reshape(U, (-1, 2))"
   ]
  },
  {
   "cell_type": "code",
   "execution_count": 131,
   "metadata": {},
   "outputs": [],
   "source": [
    "X1 = XX[0,:,:,:]\n",
    "X2 = XX[:2,:,:,:].reshape((-1,2))\n",
    "X3 = XX[:,:,:,:].reshape((-1,2))\n",
    "\n",
    "U1 = UU[0,:,:,:]\n",
    "U2 = UU[:2,:,:,:].reshape((-1,2))\n",
    "U3 = UU[:,:,:,:].reshape((-1,2))"
   ]
  },
  {
   "cell_type": "code",
   "execution_count": 123,
   "metadata": {},
   "outputs": [],
   "source": [
    "def nominal_model_step(x, velocities, time_step):\n",
    "    poses = np.zeros((2, 1))\n",
    "    poses[0] = 1.0 * x[0] + time_step * velocities[0] + 0.0 * x[0]\n",
    "    poses[1] = 1.0 * x[1] + time_step * velocities[1] + 0.0* x[1]\n",
    "    return poses"
   ]
  },
  {
   "cell_type": "code",
   "execution_count": 125,
   "metadata": {},
   "outputs": [
    {
     "ename": "IndexError",
     "evalue": "index 2 is out of bounds for axis 0 with size 1",
     "output_type": "error",
     "traceback": [
      "\u001b[1;31m---------------------------------------------------------------------------\u001b[0m",
      "\u001b[1;31mIndexError\u001b[0m                                Traceback (most recent call last)",
      "Input \u001b[1;32mIn [125]\u001b[0m, in \u001b[0;36m<cell line: 1>\u001b[1;34m()\u001b[0m\n\u001b[1;32m----> 1\u001b[0m X_train \u001b[38;5;241m=\u001b[39m np\u001b[38;5;241m.\u001b[39mhstack((\u001b[43mXX\u001b[49m\u001b[43m[\u001b[49m\u001b[38;5;241;43m2\u001b[39;49m\u001b[43m]\u001b[49m[:\u001b[38;5;241m-\u001b[39m\u001b[38;5;241m1\u001b[39m]\u001b[38;5;241m.\u001b[39mreshape(\u001b[38;5;241m-\u001b[39m\u001b[38;5;241m1\u001b[39m,\u001b[38;5;241m2\u001b[39m),UU[\u001b[38;5;241m2\u001b[39m]\u001b[38;5;241m.\u001b[39mreshape(\u001b[38;5;241m-\u001b[39m\u001b[38;5;241m1\u001b[39m,\u001b[38;5;241m2\u001b[39m)))\u001b[38;5;241m.\u001b[39mreshape((\u001b[38;5;241m-\u001b[39m\u001b[38;5;241m1\u001b[39m,\u001b[38;5;241m4\u001b[39m))\n\u001b[0;32m      2\u001b[0m Y_train \u001b[38;5;241m=\u001b[39m XX[\u001b[38;5;241m2\u001b[39m,\u001b[38;5;241m1\u001b[39m:]\u001b[38;5;241m.\u001b[39mreshape((\u001b[38;5;241m-\u001b[39m\u001b[38;5;241m1\u001b[39m,\u001b[38;5;241m2\u001b[39m))\n\u001b[0;32m      4\u001b[0m \u001b[38;5;66;03m# Define the GP model with RBF kernel\u001b[39;00m\n\u001b[0;32m      5\u001b[0m \u001b[38;5;66;03m# Define the kernel for the Gaussian Process\u001b[39;00m\n",
      "\u001b[1;31mIndexError\u001b[0m: index 2 is out of bounds for axis 0 with size 1"
     ]
    }
   ],
   "source": [
    "X_train = np.hstack((XX[2][:-1].reshape(-1,2),UU[2].reshape(-1,2))).reshape((-1,4))\n",
    "Y_train = XX[2,1:].reshape((-1,2))\n",
    "\n",
    "# Define the GP model with RBF kernel\n",
    "# Define the kernel for the Gaussian Process\n",
    "kernel = ConstantKernel() * RBF(length_scale=[0.5,0.5,0.5,0.5]) + WhiteKernel()\n",
    "gp = GaussianProcessRegressor(kernel=kernel, n_restarts_optimizer=10)\n",
    "\n",
    "# Train the GP model\n",
    "gp.fit(X_train, Y_train)"
   ]
  },
  {
   "cell_type": "code",
   "execution_count": 124,
   "metadata": {},
   "outputs": [
    {
     "ename": "ValueError",
     "evalue": "all the input array dimensions for the concatenation axis must match exactly, but along dimension 0, the array at index 0 has size 712 and the array at index 1 has size 1000",
     "output_type": "error",
     "traceback": [
      "\u001b[1;31m---------------------------------------------------------------------------\u001b[0m",
      "\u001b[1;31mValueError\u001b[0m                                Traceback (most recent call last)",
      "Input \u001b[1;32mIn [124]\u001b[0m, in \u001b[0;36m<cell line: 1>\u001b[1;34m()\u001b[0m\n\u001b[1;32m----> 1\u001b[0m X_train \u001b[38;5;241m=\u001b[39m \u001b[43mnp\u001b[49m\u001b[38;5;241;43m.\u001b[39;49m\u001b[43mhstack\u001b[49m\u001b[43m(\u001b[49m\u001b[43m(\u001b[49m\u001b[43mX2\u001b[49m\u001b[43m[\u001b[49m\u001b[43m:\u001b[49m\u001b[38;5;241;43m-\u001b[39;49m\u001b[38;5;241;43m1\u001b[39;49m\u001b[43m,\u001b[49m\u001b[43m:\u001b[49m\u001b[43m]\u001b[49m\u001b[43m,\u001b[49m\u001b[43mU2\u001b[49m\u001b[43m[\u001b[49m\u001b[43m:\u001b[49m\u001b[43m,\u001b[49m\u001b[43m:\u001b[49m\u001b[43m]\u001b[49m\u001b[43m)\u001b[49m\u001b[43m)\u001b[49m\u001b[38;5;241m.\u001b[39mreshape((\u001b[38;5;241m-\u001b[39m\u001b[38;5;241m1\u001b[39m,\u001b[38;5;241m4\u001b[39m))\n\u001b[0;32m      2\u001b[0m Y_train \u001b[38;5;241m=\u001b[39m X2[\u001b[38;5;241m1\u001b[39m:,:]\u001b[38;5;241m.\u001b[39mreshape((\u001b[38;5;241m-\u001b[39m\u001b[38;5;241m1\u001b[39m,\u001b[38;5;241m2\u001b[39m))\n\u001b[0;32m      4\u001b[0m \u001b[38;5;66;03m# Define the GP model with RBF kernel\u001b[39;00m\n\u001b[0;32m      5\u001b[0m \u001b[38;5;66;03m# Define the kernel for the Gaussian Process\u001b[39;00m\n",
      "File \u001b[1;32m<__array_function__ internals>:180\u001b[0m, in \u001b[0;36mhstack\u001b[1;34m(*args, **kwargs)\u001b[0m\n",
      "File \u001b[1;32mc:\\Users\\jamal\\anaconda3\\envs\\mbrl\\lib\\site-packages\\numpy\\core\\shape_base.py:345\u001b[0m, in \u001b[0;36mhstack\u001b[1;34m(tup)\u001b[0m\n\u001b[0;32m    343\u001b[0m     \u001b[38;5;28;01mreturn\u001b[39;00m _nx\u001b[38;5;241m.\u001b[39mconcatenate(arrs, \u001b[38;5;241m0\u001b[39m)\n\u001b[0;32m    344\u001b[0m \u001b[38;5;28;01melse\u001b[39;00m:\n\u001b[1;32m--> 345\u001b[0m     \u001b[38;5;28;01mreturn\u001b[39;00m \u001b[43m_nx\u001b[49m\u001b[38;5;241;43m.\u001b[39;49m\u001b[43mconcatenate\u001b[49m\u001b[43m(\u001b[49m\u001b[43marrs\u001b[49m\u001b[43m,\u001b[49m\u001b[43m \u001b[49m\u001b[38;5;241;43m1\u001b[39;49m\u001b[43m)\u001b[49m\n",
      "File \u001b[1;32m<__array_function__ internals>:180\u001b[0m, in \u001b[0;36mconcatenate\u001b[1;34m(*args, **kwargs)\u001b[0m\n",
      "\u001b[1;31mValueError\u001b[0m: all the input array dimensions for the concatenation axis must match exactly, but along dimension 0, the array at index 0 has size 712 and the array at index 1 has size 1000"
     ]
    }
   ],
   "source": [
    "X_train = np.hstack((X2[:-1,:],U2[:,:])).reshape((-1,4))\n",
    "Y_train = X2[1:,:].reshape((-1,2))\n",
    "\n",
    "# Define the GP model with RBF kernel\n",
    "# Define the kernel for the Gaussian Process\n",
    "kernel = ConstantKernel() * RBF(length_scale=[0.5,0.5,0.5,0.5]) + WhiteKernel()\n",
    "gp = GaussianProcessRegressor(kernel=kernel, n_restarts_optimizer=10)\n",
    "\n",
    "# Train the GP model\n",
    "gp.fit(X_train, Y_train)\n"
   ]
  },
  {
   "cell_type": "code",
   "execution_count": 118,
   "metadata": {},
   "outputs": [
    {
     "name": "stdout",
     "output_type": "stream",
     "text": [
      "Predicted next state: [[ 0.49882429]\n",
      " [-0.48433805]]\n",
      "actual next state: [[ 0.495005]\n",
      " [-0.495005]]\n",
      "Covariance: [[[0.00013345 0.00013345]]]\n"
     ]
    }
   ],
   "source": [
    "# Example of predicting with the GP model\n",
    "time_step = 0.0333\n",
    "test_state = np.array([0.5, -0.5])\n",
    "test_velocities = np.array([-0.15, 0.15])\n",
    "test_input = np.hstack((test_state, test_velocities)).reshape(1, -1)\n",
    "predicted_next_state,covn = gp.predict(test_input,return_cov=True)\n",
    "\n",
    "next_state_test = nominal_model_step(test_state, test_velocities, time_step)\n",
    "\n",
    "print(\"Predicted next state:\", predicted_next_state.T)\n",
    "print('actual next state:',next_state_test)\n",
    "print('Covariance:',covn)"
   ]
  },
  {
   "cell_type": "code",
   "execution_count": 10,
   "metadata": {},
   "outputs": [
    {
     "data": {
      "text/plain": [
       "{'k1': 9.8**2 * RBF(length_scale=[20.6, 19.4, 401, 417]),\n",
       " 'k2': WhiteKernel(noise_level=1e-05),\n",
       " 'k1__k1': 9.8**2,\n",
       " 'k1__k2': RBF(length_scale=[20.6, 19.4, 401, 417]),\n",
       " 'k1__k1__constant_value': 96.10841278607474,\n",
       " 'k1__k1__constant_value_bounds': (1e-05, 100000.0),\n",
       " 'k1__k2__length_scale': array([ 20.61778115,  19.42858169, 401.04667891, 416.52370577]),\n",
       " 'k1__k2__length_scale_bounds': (1e-05, 100000.0),\n",
       " 'k2__noise_level': 9.999999999999997e-06,\n",
       " 'k2__noise_level_bounds': (1e-05, 100000.0)}"
      ]
     },
     "execution_count": 10,
     "metadata": {},
     "output_type": "execute_result"
    }
   ],
   "source": [
    "gp.kernel_.get_params()"
   ]
  },
  {
   "cell_type": "code",
   "execution_count": 113,
   "metadata": {},
   "outputs": [],
   "source": [
    "with open(\"GP_nominal_2.dump\",\"wb\") as f:\n",
    "    pickle.dump(gp, f)"
   ]
  }
 ],
 "metadata": {
  "kernelspec": {
   "display_name": "mbrl",
   "language": "python",
   "name": "python3"
  },
  "language_info": {
   "codemirror_mode": {
    "name": "ipython",
    "version": 3
   },
   "file_extension": ".py",
   "mimetype": "text/x-python",
   "name": "python",
   "nbconvert_exporter": "python",
   "pygments_lexer": "ipython3",
   "version": "3.8.13"
  }
 },
 "nbformat": 4,
 "nbformat_minor": 2
}
