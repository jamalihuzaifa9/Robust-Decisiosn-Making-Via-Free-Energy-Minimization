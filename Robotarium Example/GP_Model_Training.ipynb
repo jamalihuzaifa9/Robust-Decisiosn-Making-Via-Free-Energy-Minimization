{
 "cells": [
  {
   "cell_type": "code",
   "execution_count": 132,
   "metadata": {},
   "outputs": [],
   "source": [
    "import numpy as np\n",
    "import pickle\n",
    "import scipy.stats as st\n",
    "from scipy.optimize import minimize\n",
    "from sklearn.gaussian_process import GaussianProcessRegressor\n",
    "from sklearn.gaussian_process.kernels import RBF, ConstantKernel, WhiteKernel"
   ]
  },
  {
   "cell_type": "code",
   "execution_count": 135,
   "metadata": {},
   "outputs": [],
   "source": [
    "XX = np.load(r'D:\\Network Security\\KL Control\\robotarium_python_simulator\\rps\\State_Data_Nominal.npy',allow_pickle=True)\n",
    "UU = np.load(r'D:\\Network Security\\KL Control\\robotarium_python_simulator\\rps\\Input_Dataset_new.npy',allow_pickle=True)"
   ]
  },
  {
   "cell_type": "code",
   "execution_count": 134,
   "metadata": {},
   "outputs": [],
   "source": [
    "X = []\n",
    "X_plot = []\n",
    "\n",
    "X_Prev = []\n",
    "X_plot_Prev = []\n",
    "\n",
    "U = []\n",
    "U_plot = []\n",
    "\n",
    "for i in range(len(XX)):\n",
    "    X.append(np.array(XX[i]))\n",
    "    X_plot.append(np.array(XX[i]))\n",
    "\n",
    "X = np.concatenate(X, axis=0)\n",
    "X = np.reshape(X, (-1, 2))\n",
    "\n",
    "U = []\n",
    "for i in range(len(UU)):\n",
    "    U.append(np.array(UU[i]))\n",
    "    U_plot.append(np.array(UU[i]))\n",
    "\n",
    "U = np.concatenate(U, axis=0)\n",
    "U = np.reshape(U, (-1, 2))"
   ]
  },
  {
   "cell_type": "code",
   "execution_count": 131,
   "metadata": {},
   "outputs": [],
   "source": [
    "X1 = XX[0,:,:,:]\n",
    "X2 = XX[:2,:,:,:].reshape((-1,2))\n",
    "X3 = XX[:,:,:,:].reshape((-1,2))\n",
    "\n",
    "U1 = UU[0,:,:,:]\n",
    "U2 = UU[:2,:,:,:].reshape((-1,2))\n",
    "U3 = UU[:,:,:,:].reshape((-1,2))"
   ]
  },
  {
   "cell_type": "code",
   "execution_count": 169,
   "metadata": {},
   "outputs": [],
   "source": [
    "# Dataset 1\n",
    "X1 = np.hstack((XX[0,:-1])).reshape(-1,2)\n",
    "U1 = np.hstack((UU[0,:])).reshape(-1,2)\n",
    "Train1 = np.hstack((X1,U1))\n",
    "Y1 = np.hstack((XX[0,1:])).reshape(-1,2)\n",
    "\n",
    "# Dataset 2\n",
    "X2 = np.hstack((XX[0,:-1],XX[1,:-1])).reshape(-1,2)\n",
    "U2 = np.hstack((UU[0,:],UU[1,:])).reshape(-1,2)\n",
    "Train2 = np.hstack((X2,U2))\n",
    "Y2 = np.hstack((XX[0,1:],XX[1,1:])).reshape(-1,2)\n",
    "\n",
    "# Dataset 3\n",
    "X3 = np.hstack((XX[0,:-1],XX[1,:-1],XX[2,:-1])).reshape(-1,2)\n",
    "U3 = np.hstack((UU[0,:],UU[1,:],UU[2,:])).reshape(-1,2)\n",
    "Train3 = np.hstack((X3,U3))\n",
    "Y3 = np.hstack((XX[0,1:],XX[1,1:],XX[2,1:])).reshape(-1,2)"
   ]
  },
  {
   "cell_type": "code",
   "execution_count": 182,
   "metadata": {},
   "outputs": [],
   "source": [
    "def nominal_model_step(x, velocities, time_step):\n",
    "    poses = np.zeros((2, 1))\n",
    "    poses[0] = 1.0 * x[0] + time_step * velocities[0] + 0.0 * x[0]\n",
    "    poses[1] = 1.0 * x[1] + time_step * velocities[1] + 0.0* x[1]\n",
    "    return poses"
   ]
  },
  {
   "cell_type": "code",
   "execution_count": null,
   "metadata": {},
   "outputs": [
    {
     "name": "stderr",
     "output_type": "stream",
     "text": [
      "c:\\Users\\jamal\\anaconda3\\envs\\mbrl\\lib\\site-packages\\sklearn\\gaussian_process\\kernels.py:285: RuntimeWarning: divide by zero encountered in log\n",
      "  return np.log(np.hstack(theta))\n"
     ]
    }
   ],
   "source": [
    "# Define the GP model with RBF kernel\n",
    "# Define the kernel for the Gaussian Process\n",
    "kernel = ConstantKernel() * RBF(length_scale=[0.0,.0,.0,.0]) + WhiteKernel()\n",
    "gp = GaussianProcessRegressor(kernel=kernel, n_restarts_optimizer=10)\n",
    "\n",
    "# Train the GP model\n",
    "gp.fit(Train2, Y2)"
   ]
  },
  {
   "cell_type": "code",
   "execution_count": null,
   "metadata": {},
   "outputs": [],
   "source": [
    "X_train = np.hstack((X2[:-1,:],U2[:,:])).reshape((-1,4))\n",
    "Y_train = X2[1:,:].reshape((-1,2))\n",
    "\n",
    "# Define the GP model with RBF kernel\n",
    "# Define the kernel for the Gaussian Process\n",
    "kernel = ConstantKernel() * RBF(length_scale=[0.5,0.5,0.5,0.5]) + WhiteKernel()\n",
    "gp = GaussianProcessRegressor(kernel=kernel, n_restarts_optimizer=10)\n",
    "\n",
    "# Train the GP model\n",
    "gp.fit(X_train, Y_train)\n"
   ]
  },
  {
   "cell_type": "code",
   "execution_count": 208,
   "metadata": {},
   "outputs": [],
   "source": [
    "gp3 = pickle.load(open(\"GP_nominal_2.dump\",\"rb\"))"
   ]
  },
  {
   "cell_type": "code",
   "execution_count": 230,
   "metadata": {},
   "outputs": [
    {
     "name": "stdout",
     "output_type": "stream",
     "text": [
      "Predicted next state: [[ 0.99915069]\n",
      " [-0.79607165]]\n",
      "actual next state: [[ 0.995005]\n",
      " [-0.795005]]\n",
      "Covariance: [[[1.24258659e-05 1.24258659e-05]]]\n"
     ]
    }
   ],
   "source": [
    "# Example of predicting with the GP model\n",
    "time_step = 0.0333\n",
    "test_state = np.array([1.0, -.8])\n",
    "test_velocities = np.array([-0.15, 0.15])\n",
    "test_input = np.hstack((test_state, test_velocities)).reshape(1, -1)\n",
    "predicted_next_state,covn = gp.predict(test_input,return_cov=True)\n",
    "\n",
    "next_state_test = nominal_model_step(test_state, test_velocities, time_step)\n",
    "\n",
    "print(\"Predicted next state:\", predicted_next_state.T)\n",
    "print('actual next state:',next_state_test)\n",
    "print('Covariance:',covn)"
   ]
  },
  {
   "cell_type": "code",
   "execution_count": 10,
   "metadata": {},
   "outputs": [
    {
     "data": {
      "text/plain": [
       "{'k1': 9.8**2 * RBF(length_scale=[20.6, 19.4, 401, 417]),\n",
       " 'k2': WhiteKernel(noise_level=1e-05),\n",
       " 'k1__k1': 9.8**2,\n",
       " 'k1__k2': RBF(length_scale=[20.6, 19.4, 401, 417]),\n",
       " 'k1__k1__constant_value': 96.10841278607474,\n",
       " 'k1__k1__constant_value_bounds': (1e-05, 100000.0),\n",
       " 'k1__k2__length_scale': array([ 20.61778115,  19.42858169, 401.04667891, 416.52370577]),\n",
       " 'k1__k2__length_scale_bounds': (1e-05, 100000.0),\n",
       " 'k2__noise_level': 9.999999999999997e-06,\n",
       " 'k2__noise_level_bounds': (1e-05, 100000.0)}"
      ]
     },
     "execution_count": 10,
     "metadata": {},
     "output_type": "execute_result"
    }
   ],
   "source": [
    "gp.kernel_.get_params()"
   ]
  },
  {
   "cell_type": "code",
   "execution_count": 113,
   "metadata": {},
   "outputs": [],
   "source": [
    "with open(\"GP_nominal_2.dump\",\"wb\") as f:\n",
    "    pickle.dump(gp, f)"
   ]
  },
  {
   "cell_type": "code",
   "execution_count": 172,
   "metadata": {},
   "outputs": [],
   "source": [
    "def calculate_kl_divergence(mu1, cov1, mu2, cov2):\n",
    "    \"\"\"\n",
    "    Calculate the Kullback-Leibler (KL) divergence between two multivariate Gaussian distributions.\n",
    "\n",
    "    Args:\n",
    "        mu1: numpy array of shape (d,), the mean vector of the first Gaussian distribution\n",
    "        cov1: numpy array of shape (d, d), the covariance matrix of the first Gaussian distribution\n",
    "        mu2: numpy array of shape (d,), the mean vector of the second Gaussian distribution\n",
    "        cov2: numpy array of shape (d, d), the covariance matrix of the second Gaussian distribution\n",
    "\n",
    "    Returns:\n",
    "        kl_divergence: float, the KL divergence between the two Gaussian distributions\n",
    "    \"\"\"\n",
    "    d = len(mu1)\n",
    "\n",
    "    # Invert the covariance matrix of the second Gaussian distribution\n",
    "    cov2_inv = np.linalg.inv(cov2)\n",
    "\n",
    "    # Calculate the trace term\n",
    "    trace_term = np.trace(np.matmul(cov2_inv, cov1))\n",
    "\n",
    "    # Calculate the squared difference in means\n",
    "    mean_diff = mu2 - mu1\n",
    "    mean_diff_term = np.dot(np.dot(mean_diff, cov2_inv), mean_diff)\n",
    "\n",
    "    # Calculate the log-determinant term\n",
    "    log_det_term = np.log(np.linalg.det(cov2) / np.linalg.det(cov1))\n",
    "\n",
    "    # Calculate the KL divergence\n",
    "    kl_divergence = 0.5 * (trace_term + mean_diff_term - d + log_det_term)\n",
    "\n",
    "    return kl_divergence"
   ]
  },
  {
   "cell_type": "code",
   "execution_count": 229,
   "metadata": {},
   "outputs": [
    {
     "name": "stdout",
     "output_type": "stream",
     "text": [
      "75.84707870552552\n"
     ]
    },
    {
     "data": {
      "text/plain": [
       "100.0"
      ]
     },
     "execution_count": 229,
     "metadata": {},
     "output_type": "execute_result"
    }
   ],
   "source": [
    "Cov = np.array([[0.001, 0.0002], [0.0002, 0.001]])\n",
    "Covn= np.diag([covn[0,0,0],covn[0,0,1]])\n",
    "cov_reference = np.array([[0.0001, 0.00002], [0.00002, 0.0001]])\n",
    "\n",
    "dkl = calculate_kl_divergence(next_state_test.reshape((2,)),Cov,predicted_next_state.reshape((2,)),Covn)\n",
    "print(dkl)\n",
    "np.clip(calculate_kl_divergence(np.array([-1.4,-0.8]).reshape((2,)),cov_reference,predicted_next_state.reshape((2,)),Covn),0.0,100)"
   ]
  }
 ],
 "metadata": {
  "kernelspec": {
   "display_name": "mbrl",
   "language": "python",
   "name": "python3"
  },
  "language_info": {
   "codemirror_mode": {
    "name": "ipython",
    "version": 3
   },
   "file_extension": ".py",
   "mimetype": "text/x-python",
   "name": "python",
   "nbconvert_exporter": "python",
   "pygments_lexer": "ipython3",
   "version": "3.8.13"
  }
 },
 "nbformat": 4,
 "nbformat_minor": 2
}
